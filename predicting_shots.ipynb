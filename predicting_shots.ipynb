{
 "cells": [
  {
   "cell_type": "markdown",
   "metadata": {},
   "source": [
    "# Predicting NBA shots\n",
    "\n",
    "*Class: Introduction to data science*\n",
    "\n",
    "*Author: Dario Deković*\n",
    "\n",
    "*Inspiration: [Bret Mehan, Predicting NBA shots, Stanford University](http://cs229.stanford.edu/proj2017/final-reports/5132133.pdf)*\n",
    "\n",
    "*Dataset: [NBA shot logs](https://www.kaggle.com/dansbecker/nba-shot-logs)*"
   ]
  },
  {
   "cell_type": "code",
   "execution_count": 40,
   "metadata": {},
   "outputs": [],
   "source": [
    "import pandas as pd\n",
    "import numpy as np\n",
    "import matplotlib.pyplot as plt\n",
    "import seaborn as sns"
   ]
  },
  {
   "cell_type": "markdown",
   "metadata": {},
   "source": [
    "## Introduction\n",
    "\n",
    "Before we dive into the data I will give a quick overview of the type of research that Bret Mehan did in his paper. We can classify this research with regard to:\n",
    "\n",
    "1. Purpose: **Applied research**\\\n",
    "    In his paper, he didn't develop any new algorithms but rather focused on utilizing existing methods to obtain the best results.\n",
    "\n",
    "2. Depth: **Exploratory research**\\\n",
    "    Since this is an unsolved problem his focus is to coax some correlation between features and shot results.\n",
    "\n",
    "3. Type of data: **Quantitative research**\\\n",
    "    Features are mostly numerical or can have a numerical representation.\n",
    "\n",
    "4. Amount of data manipulation: **Observational research**\\\n",
    "    He just collected the data without affecting how it was collected.\n",
    "\n",
    "5. Conclusion: **Deductive research**\\\n",
    "    This stems from his use of statistical methods and quantitative research.\n",
    "\n",
    "6. Time of observation: **Longitudinal research**\\\n",
    "    Data was collected through an entire season.\n",
    "\n",
    "7. Data source: **Secondary research**\\\n",
    "    He used data already scrapped and prepared in a CSV file.\n",
    "    \n",
    "8. Data collection: **Documentary research**\\\n",
    "    He collected data from an existing source\n",
    "\n",
    "\n",
    "The data used in this project is from 2014/2015 NBA season and was scrapped from the NBA's REST API.\n",
    "\n",
    "Since this data is publicly available I couldn't find any evidence that any part of Bret's paper is in breach of the research ethics.\n",
    "\n",
    "**The main goal of this project is to develop a decent predictor of shot success based on the features available in the dataset.**"
   ]
  },
  {
   "cell_type": "markdown",
   "metadata": {},
   "source": [
    "## Data analysis\n",
    "\n",
    "The first step in any data science project is loading the data and doing some data analysis to get a feel for the data we are using."
   ]
  },
  {
   "cell_type": "code",
   "execution_count": 41,
   "metadata": {},
   "outputs": [
    {
     "data": {
      "text/html": [
       "<div>\n",
       "<style scoped>\n",
       "    .dataframe tbody tr th:only-of-type {\n",
       "        vertical-align: middle;\n",
       "    }\n",
       "\n",
       "    .dataframe tbody tr th {\n",
       "        vertical-align: top;\n",
       "    }\n",
       "\n",
       "    .dataframe thead th {\n",
       "        text-align: right;\n",
       "    }\n",
       "</style>\n",
       "<table border=\"1\" class=\"dataframe\">\n",
       "  <thead>\n",
       "    <tr style=\"text-align: right;\">\n",
       "      <th></th>\n",
       "      <th>GAME_ID</th>\n",
       "      <th>MATCHUP</th>\n",
       "      <th>LOCATION</th>\n",
       "      <th>W</th>\n",
       "      <th>FINAL_MARGIN</th>\n",
       "      <th>SHOT_NUMBER</th>\n",
       "      <th>PERIOD</th>\n",
       "      <th>GAME_CLOCK</th>\n",
       "      <th>SHOT_CLOCK</th>\n",
       "      <th>DRIBBLES</th>\n",
       "      <th>...</th>\n",
       "      <th>SHOT_DIST</th>\n",
       "      <th>PTS_TYPE</th>\n",
       "      <th>SHOT_RESULT</th>\n",
       "      <th>CLOSEST_DEFENDER</th>\n",
       "      <th>CLOSEST_DEFENDER_PLAYER_ID</th>\n",
       "      <th>CLOSE_DEF_DIST</th>\n",
       "      <th>FGM</th>\n",
       "      <th>PTS</th>\n",
       "      <th>player_name</th>\n",
       "      <th>player_id</th>\n",
       "    </tr>\n",
       "  </thead>\n",
       "  <tbody>\n",
       "    <tr>\n",
       "      <th>0</th>\n",
       "      <td>21400899</td>\n",
       "      <td>MAR 04, 2015 - CHA @ BKN</td>\n",
       "      <td>A</td>\n",
       "      <td>W</td>\n",
       "      <td>24</td>\n",
       "      <td>1</td>\n",
       "      <td>1</td>\n",
       "      <td>1:09</td>\n",
       "      <td>10.8</td>\n",
       "      <td>2</td>\n",
       "      <td>...</td>\n",
       "      <td>7.7</td>\n",
       "      <td>2</td>\n",
       "      <td>made</td>\n",
       "      <td>Anderson, Alan</td>\n",
       "      <td>101187</td>\n",
       "      <td>1.3</td>\n",
       "      <td>1</td>\n",
       "      <td>2</td>\n",
       "      <td>brian roberts</td>\n",
       "      <td>203148</td>\n",
       "    </tr>\n",
       "    <tr>\n",
       "      <th>1</th>\n",
       "      <td>21400899</td>\n",
       "      <td>MAR 04, 2015 - CHA @ BKN</td>\n",
       "      <td>A</td>\n",
       "      <td>W</td>\n",
       "      <td>24</td>\n",
       "      <td>2</td>\n",
       "      <td>1</td>\n",
       "      <td>0:14</td>\n",
       "      <td>3.4</td>\n",
       "      <td>0</td>\n",
       "      <td>...</td>\n",
       "      <td>28.2</td>\n",
       "      <td>3</td>\n",
       "      <td>missed</td>\n",
       "      <td>Bogdanovic, Bojan</td>\n",
       "      <td>202711</td>\n",
       "      <td>6.1</td>\n",
       "      <td>0</td>\n",
       "      <td>0</td>\n",
       "      <td>brian roberts</td>\n",
       "      <td>203148</td>\n",
       "    </tr>\n",
       "    <tr>\n",
       "      <th>2</th>\n",
       "      <td>21400899</td>\n",
       "      <td>MAR 04, 2015 - CHA @ BKN</td>\n",
       "      <td>A</td>\n",
       "      <td>W</td>\n",
       "      <td>24</td>\n",
       "      <td>3</td>\n",
       "      <td>1</td>\n",
       "      <td>0:00</td>\n",
       "      <td>NaN</td>\n",
       "      <td>3</td>\n",
       "      <td>...</td>\n",
       "      <td>10.1</td>\n",
       "      <td>2</td>\n",
       "      <td>missed</td>\n",
       "      <td>Bogdanovic, Bojan</td>\n",
       "      <td>202711</td>\n",
       "      <td>0.9</td>\n",
       "      <td>0</td>\n",
       "      <td>0</td>\n",
       "      <td>brian roberts</td>\n",
       "      <td>203148</td>\n",
       "    </tr>\n",
       "    <tr>\n",
       "      <th>3</th>\n",
       "      <td>21400899</td>\n",
       "      <td>MAR 04, 2015 - CHA @ BKN</td>\n",
       "      <td>A</td>\n",
       "      <td>W</td>\n",
       "      <td>24</td>\n",
       "      <td>4</td>\n",
       "      <td>2</td>\n",
       "      <td>11:47</td>\n",
       "      <td>10.3</td>\n",
       "      <td>2</td>\n",
       "      <td>...</td>\n",
       "      <td>17.2</td>\n",
       "      <td>2</td>\n",
       "      <td>missed</td>\n",
       "      <td>Brown, Markel</td>\n",
       "      <td>203900</td>\n",
       "      <td>3.4</td>\n",
       "      <td>0</td>\n",
       "      <td>0</td>\n",
       "      <td>brian roberts</td>\n",
       "      <td>203148</td>\n",
       "    </tr>\n",
       "    <tr>\n",
       "      <th>4</th>\n",
       "      <td>21400899</td>\n",
       "      <td>MAR 04, 2015 - CHA @ BKN</td>\n",
       "      <td>A</td>\n",
       "      <td>W</td>\n",
       "      <td>24</td>\n",
       "      <td>5</td>\n",
       "      <td>2</td>\n",
       "      <td>10:34</td>\n",
       "      <td>10.9</td>\n",
       "      <td>2</td>\n",
       "      <td>...</td>\n",
       "      <td>3.7</td>\n",
       "      <td>2</td>\n",
       "      <td>missed</td>\n",
       "      <td>Young, Thaddeus</td>\n",
       "      <td>201152</td>\n",
       "      <td>1.1</td>\n",
       "      <td>0</td>\n",
       "      <td>0</td>\n",
       "      <td>brian roberts</td>\n",
       "      <td>203148</td>\n",
       "    </tr>\n",
       "  </tbody>\n",
       "</table>\n",
       "<p>5 rows × 21 columns</p>\n",
       "</div>"
      ],
      "text/plain": [
       "    GAME_ID                   MATCHUP LOCATION  W  FINAL_MARGIN  SHOT_NUMBER  \\\n",
       "0  21400899  MAR 04, 2015 - CHA @ BKN        A  W            24            1   \n",
       "1  21400899  MAR 04, 2015 - CHA @ BKN        A  W            24            2   \n",
       "2  21400899  MAR 04, 2015 - CHA @ BKN        A  W            24            3   \n",
       "3  21400899  MAR 04, 2015 - CHA @ BKN        A  W            24            4   \n",
       "4  21400899  MAR 04, 2015 - CHA @ BKN        A  W            24            5   \n",
       "\n",
       "   PERIOD GAME_CLOCK  SHOT_CLOCK  DRIBBLES  ...  SHOT_DIST  PTS_TYPE  \\\n",
       "0       1       1:09        10.8         2  ...        7.7         2   \n",
       "1       1       0:14         3.4         0  ...       28.2         3   \n",
       "2       1       0:00         NaN         3  ...       10.1         2   \n",
       "3       2      11:47        10.3         2  ...       17.2         2   \n",
       "4       2      10:34        10.9         2  ...        3.7         2   \n",
       "\n",
       "   SHOT_RESULT   CLOSEST_DEFENDER CLOSEST_DEFENDER_PLAYER_ID  CLOSE_DEF_DIST  \\\n",
       "0         made     Anderson, Alan                     101187             1.3   \n",
       "1       missed  Bogdanovic, Bojan                     202711             6.1   \n",
       "2       missed  Bogdanovic, Bojan                     202711             0.9   \n",
       "3       missed      Brown, Markel                     203900             3.4   \n",
       "4       missed    Young, Thaddeus                     201152             1.1   \n",
       "\n",
       "   FGM  PTS    player_name player_id  \n",
       "0    1    2  brian roberts    203148  \n",
       "1    0    0  brian roberts    203148  \n",
       "2    0    0  brian roberts    203148  \n",
       "3    0    0  brian roberts    203148  \n",
       "4    0    0  brian roberts    203148  \n",
       "\n",
       "[5 rows x 21 columns]"
      ]
     },
     "execution_count": 41,
     "metadata": {},
     "output_type": "execute_result"
    }
   ],
   "source": [
    "shots = pd.read_csv('shot_logs.csv')\n",
    "\n",
    "shots.head()"
   ]
  },
  {
   "cell_type": "code",
   "execution_count": 42,
   "metadata": {},
   "outputs": [
    {
     "data": {
      "text/html": [
       "<div>\n",
       "<style scoped>\n",
       "    .dataframe tbody tr th:only-of-type {\n",
       "        vertical-align: middle;\n",
       "    }\n",
       "\n",
       "    .dataframe tbody tr th {\n",
       "        vertical-align: top;\n",
       "    }\n",
       "\n",
       "    .dataframe thead th {\n",
       "        text-align: right;\n",
       "    }\n",
       "</style>\n",
       "<table border=\"1\" class=\"dataframe\">\n",
       "  <thead>\n",
       "    <tr style=\"text-align: right;\">\n",
       "      <th></th>\n",
       "      <th>GAME_ID</th>\n",
       "      <th>FINAL_MARGIN</th>\n",
       "      <th>SHOT_NUMBER</th>\n",
       "      <th>PERIOD</th>\n",
       "      <th>SHOT_CLOCK</th>\n",
       "      <th>DRIBBLES</th>\n",
       "      <th>TOUCH_TIME</th>\n",
       "      <th>SHOT_DIST</th>\n",
       "      <th>PTS_TYPE</th>\n",
       "      <th>CLOSEST_DEFENDER_PLAYER_ID</th>\n",
       "      <th>CLOSE_DEF_DIST</th>\n",
       "      <th>FGM</th>\n",
       "      <th>PTS</th>\n",
       "      <th>player_id</th>\n",
       "    </tr>\n",
       "  </thead>\n",
       "  <tbody>\n",
       "    <tr>\n",
       "      <th>count</th>\n",
       "      <td>1.280690e+05</td>\n",
       "      <td>128069.000000</td>\n",
       "      <td>128069.000000</td>\n",
       "      <td>128069.000000</td>\n",
       "      <td>122502.000000</td>\n",
       "      <td>128069.000000</td>\n",
       "      <td>128069.000000</td>\n",
       "      <td>128069.000000</td>\n",
       "      <td>128069.000000</td>\n",
       "      <td>128069.000000</td>\n",
       "      <td>128069.000000</td>\n",
       "      <td>128069.000000</td>\n",
       "      <td>128069.000000</td>\n",
       "      <td>128069.000000</td>\n",
       "    </tr>\n",
       "    <tr>\n",
       "      <th>mean</th>\n",
       "      <td>2.140045e+07</td>\n",
       "      <td>0.208723</td>\n",
       "      <td>6.506899</td>\n",
       "      <td>2.469427</td>\n",
       "      <td>12.453344</td>\n",
       "      <td>2.023355</td>\n",
       "      <td>2.765901</td>\n",
       "      <td>13.571504</td>\n",
       "      <td>2.264670</td>\n",
       "      <td>159038.487284</td>\n",
       "      <td>4.123015</td>\n",
       "      <td>0.452139</td>\n",
       "      <td>0.997314</td>\n",
       "      <td>157238.251247</td>\n",
       "    </tr>\n",
       "    <tr>\n",
       "      <th>std</th>\n",
       "      <td>2.578773e+02</td>\n",
       "      <td>13.233267</td>\n",
       "      <td>4.713260</td>\n",
       "      <td>1.139919</td>\n",
       "      <td>5.763265</td>\n",
       "      <td>3.477760</td>\n",
       "      <td>3.043682</td>\n",
       "      <td>8.888964</td>\n",
       "      <td>0.441159</td>\n",
       "      <td>78791.172947</td>\n",
       "      <td>2.756446</td>\n",
       "      <td>0.497706</td>\n",
       "      <td>1.130978</td>\n",
       "      <td>79362.389336</td>\n",
       "    </tr>\n",
       "    <tr>\n",
       "      <th>min</th>\n",
       "      <td>2.140000e+07</td>\n",
       "      <td>-53.000000</td>\n",
       "      <td>1.000000</td>\n",
       "      <td>1.000000</td>\n",
       "      <td>0.000000</td>\n",
       "      <td>0.000000</td>\n",
       "      <td>-163.600000</td>\n",
       "      <td>0.000000</td>\n",
       "      <td>2.000000</td>\n",
       "      <td>708.000000</td>\n",
       "      <td>0.000000</td>\n",
       "      <td>0.000000</td>\n",
       "      <td>0.000000</td>\n",
       "      <td>708.000000</td>\n",
       "    </tr>\n",
       "    <tr>\n",
       "      <th>25%</th>\n",
       "      <td>2.140023e+07</td>\n",
       "      <td>-8.000000</td>\n",
       "      <td>3.000000</td>\n",
       "      <td>1.000000</td>\n",
       "      <td>8.200000</td>\n",
       "      <td>0.000000</td>\n",
       "      <td>0.900000</td>\n",
       "      <td>4.700000</td>\n",
       "      <td>2.000000</td>\n",
       "      <td>101249.000000</td>\n",
       "      <td>2.300000</td>\n",
       "      <td>0.000000</td>\n",
       "      <td>0.000000</td>\n",
       "      <td>101162.000000</td>\n",
       "    </tr>\n",
       "    <tr>\n",
       "      <th>50%</th>\n",
       "      <td>2.140045e+07</td>\n",
       "      <td>1.000000</td>\n",
       "      <td>5.000000</td>\n",
       "      <td>2.000000</td>\n",
       "      <td>12.300000</td>\n",
       "      <td>1.000000</td>\n",
       "      <td>1.600000</td>\n",
       "      <td>13.700000</td>\n",
       "      <td>2.000000</td>\n",
       "      <td>201949.000000</td>\n",
       "      <td>3.700000</td>\n",
       "      <td>0.000000</td>\n",
       "      <td>0.000000</td>\n",
       "      <td>201939.000000</td>\n",
       "    </tr>\n",
       "    <tr>\n",
       "      <th>75%</th>\n",
       "      <td>2.140067e+07</td>\n",
       "      <td>9.000000</td>\n",
       "      <td>9.000000</td>\n",
       "      <td>3.000000</td>\n",
       "      <td>16.675000</td>\n",
       "      <td>2.000000</td>\n",
       "      <td>3.700000</td>\n",
       "      <td>22.500000</td>\n",
       "      <td>3.000000</td>\n",
       "      <td>203079.000000</td>\n",
       "      <td>5.300000</td>\n",
       "      <td>1.000000</td>\n",
       "      <td>2.000000</td>\n",
       "      <td>202704.000000</td>\n",
       "    </tr>\n",
       "    <tr>\n",
       "      <th>max</th>\n",
       "      <td>2.140091e+07</td>\n",
       "      <td>53.000000</td>\n",
       "      <td>38.000000</td>\n",
       "      <td>7.000000</td>\n",
       "      <td>24.000000</td>\n",
       "      <td>32.000000</td>\n",
       "      <td>24.900000</td>\n",
       "      <td>47.200000</td>\n",
       "      <td>3.000000</td>\n",
       "      <td>530027.000000</td>\n",
       "      <td>53.200000</td>\n",
       "      <td>1.000000</td>\n",
       "      <td>3.000000</td>\n",
       "      <td>204060.000000</td>\n",
       "    </tr>\n",
       "  </tbody>\n",
       "</table>\n",
       "</div>"
      ],
      "text/plain": [
       "            GAME_ID   FINAL_MARGIN    SHOT_NUMBER         PERIOD  \\\n",
       "count  1.280690e+05  128069.000000  128069.000000  128069.000000   \n",
       "mean   2.140045e+07       0.208723       6.506899       2.469427   \n",
       "std    2.578773e+02      13.233267       4.713260       1.139919   \n",
       "min    2.140000e+07     -53.000000       1.000000       1.000000   \n",
       "25%    2.140023e+07      -8.000000       3.000000       1.000000   \n",
       "50%    2.140045e+07       1.000000       5.000000       2.000000   \n",
       "75%    2.140067e+07       9.000000       9.000000       3.000000   \n",
       "max    2.140091e+07      53.000000      38.000000       7.000000   \n",
       "\n",
       "          SHOT_CLOCK       DRIBBLES     TOUCH_TIME      SHOT_DIST  \\\n",
       "count  122502.000000  128069.000000  128069.000000  128069.000000   \n",
       "mean       12.453344       2.023355       2.765901      13.571504   \n",
       "std         5.763265       3.477760       3.043682       8.888964   \n",
       "min         0.000000       0.000000    -163.600000       0.000000   \n",
       "25%         8.200000       0.000000       0.900000       4.700000   \n",
       "50%        12.300000       1.000000       1.600000      13.700000   \n",
       "75%        16.675000       2.000000       3.700000      22.500000   \n",
       "max        24.000000      32.000000      24.900000      47.200000   \n",
       "\n",
       "            PTS_TYPE  CLOSEST_DEFENDER_PLAYER_ID  CLOSE_DEF_DIST  \\\n",
       "count  128069.000000               128069.000000   128069.000000   \n",
       "mean        2.264670               159038.487284        4.123015   \n",
       "std         0.441159                78791.172947        2.756446   \n",
       "min         2.000000                  708.000000        0.000000   \n",
       "25%         2.000000               101249.000000        2.300000   \n",
       "50%         2.000000               201949.000000        3.700000   \n",
       "75%         3.000000               203079.000000        5.300000   \n",
       "max         3.000000               530027.000000       53.200000   \n",
       "\n",
       "                 FGM            PTS      player_id  \n",
       "count  128069.000000  128069.000000  128069.000000  \n",
       "mean        0.452139       0.997314  157238.251247  \n",
       "std         0.497706       1.130978   79362.389336  \n",
       "min         0.000000       0.000000     708.000000  \n",
       "25%         0.000000       0.000000  101162.000000  \n",
       "50%         0.000000       0.000000  201939.000000  \n",
       "75%         1.000000       2.000000  202704.000000  \n",
       "max         1.000000       3.000000  204060.000000  "
      ]
     },
     "execution_count": 42,
     "metadata": {},
     "output_type": "execute_result"
    }
   ],
   "source": [
    "shots.describe()"
   ]
  },
  {
   "cell_type": "code",
   "execution_count": 43,
   "metadata": {},
   "outputs": [
    {
     "name": "stdout",
     "output_type": "stream",
     "text": [
      "GAME_ID                         int64\n",
      "MATCHUP                        object\n",
      "LOCATION                       object\n",
      "W                              object\n",
      "FINAL_MARGIN                    int64\n",
      "SHOT_NUMBER                     int64\n",
      "PERIOD                          int64\n",
      "GAME_CLOCK                     object\n",
      "SHOT_CLOCK                    float64\n",
      "DRIBBLES                        int64\n",
      "TOUCH_TIME                    float64\n",
      "SHOT_DIST                     float64\n",
      "PTS_TYPE                        int64\n",
      "SHOT_RESULT                    object\n",
      "CLOSEST_DEFENDER               object\n",
      "CLOSEST_DEFENDER_PLAYER_ID      int64\n",
      "CLOSE_DEF_DIST                float64\n",
      "FGM                             int64\n",
      "PTS                             int64\n",
      "player_name                    object\n",
      "player_id                       int64\n",
      "dtype: object\n"
     ]
    }
   ],
   "source": [
    "print(shots.dtypes)"
   ]
  },
  {
   "cell_type": "code",
   "execution_count": 44,
   "metadata": {},
   "outputs": [
    {
     "name": "stdout",
     "output_type": "stream",
     "text": [
      "missed    70164\n",
      "made      57905\n",
      "Name: SHOT_RESULT, dtype: int64\n"
     ]
    }
   ],
   "source": [
    "print(shots['SHOT_RESULT'].value_counts())"
   ]
  },
  {
   "cell_type": "markdown",
   "metadata": {},
   "source": [
    "It is obvious that we have a mix of categorical and numerical data points. There are some unusual things in some columns that I am going to have to deal with later in the data cleaning stage. Also, the dataset is somewhat imbalanced but I am going to ignore that for now.\n",
    "\n",
    "Next, I am going to visualize two features that Bret pointed out to be very important, CLOSE_DEF_DIST and SHOT_DIST."
   ]
  },
  {
   "cell_type": "code",
   "execution_count": 45,
   "metadata": {},
   "outputs": [
    {
     "data": {
      "image/png": "[encoded data removed]",
      "text/plain": [
       "<Figure size 437.375x360 with 1 Axes>"
      ]
     },
     "metadata": {
      "needs_background": "light"
     },
     "output_type": "display_data"
    },
    {
     "data": {
      "image/png": "[encoded data removed]",
      "text/plain": [
       "<Figure size 437.375x360 with 1 Axes>"
      ]
     },
     "metadata": {
      "needs_background": "light"
     },
     "output_type": "display_data"
    }
   ],
   "source": [
    "f = sns.displot(data=shots, x=\"CLOSE_DEF_DIST\", kind='kde', hue='SHOT_RESULT')\n",
    "\n",
    "plt.title(\"Shot probability for distance of the closest defender\")\n",
    "plt.show()\n",
    "\n",
    "f = sns.displot(data=shots, x=\"SHOT_DIST\", kind='kde', hue='SHOT_RESULT')\n",
    "\n",
    "plt.title(\"Shot probability for distance from the basket\")\n",
    "plt.show()\n"
   ]
  },
  {
   "cell_type": "markdown",
   "metadata": {},
   "source": [
    "I can't spot any apparent correlation between the distance of the closest defender and the shot's success. On the other hand, the correlation between the distance from the basket and the shot's success is quite apparent. Furthermore, that graph gives a glimpse into the development of the modern NBA game and the rising popularity of the three-point shot. I think it would be interesting to view the changes in this graph throughout NBA history."
   ]
  },
  {
   "cell_type": "code",
   "execution_count": 46,
   "metadata": {},
   "outputs": [
    {
     "data": {
      "image/png": "[encoded data removed]",
      "text/plain": [
       "<Figure size 437.375x360 with 1 Axes>"
      ]
     },
     "metadata": {
      "needs_background": "light"
     },
     "output_type": "display_data"
    }
   ],
   "source": [
    "f = sns.displot(data=shots, x=\"FINAL_MARGIN\", kind='kde', hue='SHOT_RESULT')\n",
    "\n",
    "plt.title(\"Shot probability for final margin\")\n",
    "plt.show()"
   ]
  },
  {
   "cell_type": "markdown",
   "metadata": {},
   "source": [
    "## Data preprocessing\n",
    "\n",
    "The following two cells contain two functions for some simple data preprocessing that I will use to clean the data."
   ]
  },
  {
   "cell_type": "code",
   "execution_count": 47,
   "metadata": {},
   "outputs": [
    {
     "name": "stdout",
     "output_type": "stream",
     "text": [
      "SHOT_CLOCK number on missing values is 5567\n"
     ]
    }
   ],
   "source": [
    "def check_missing_data(df: pd.DataFrame) -> None:\n",
    "    \"\"\"\n",
    "    Check the entire dataset for missing values\n",
    "    \"\"\"\n",
    "    found = False\n",
    "    for _, column in enumerate(df):\n",
    "        if shots[column].isnull().any():\n",
    "            found = True\n",
    "            print(f\"{column} number on missing values is {shots[column].isnull().sum()}\")\n",
    "\n",
    "    if not(found):\n",
    "        print(\"There are no missing values in the dataset!\")\n",
    "\n",
    "check_missing_data(shots)"
   ]
  },
  {
   "cell_type": "code",
   "execution_count": 48,
   "metadata": {},
   "outputs": [],
   "source": [
    "def change_values(column, final_val, is_column_name = True, condition = lambda x: pd.isnull(x), transformations = lambda x: x):\n",
    "    \"\"\"\n",
    "    Change the values in a given column based on some condition. New value can be given or derived from some other column.\n",
    "    Transformations can be applied to the values from other columns.\n",
    "    \"\"\"\n",
    "    for i, elem in enumerate(shots[column]):\n",
    "        if condition(elem):\n",
    "            shots.loc[i, column] = (transformations(shots.loc[i, final_val]) if is_column_name else final_val)"
   ]
  },
  {
   "cell_type": "code",
   "execution_count": 49,
   "metadata": {},
   "outputs": [
    {
     "name": "stdout",
     "output_type": "stream",
     "text": [
      "720\n"
     ]
    },
    {
     "data": {
      "image/png": "[encoded data removed]",
      "text/plain": [
       "<Figure size 765.5x360 with 2 Axes>"
      ]
     },
     "metadata": {
      "needs_background": "light"
     },
     "output_type": "display_data"
    }
   ],
   "source": [
    "shots['TIME_GAME_CLOCK'] = pd.to_datetime(shots['GAME_CLOCK'],format= '%M:%S' ).dt.minute * 60 + pd.to_datetime(shots['GAME_CLOCK'],format= '%M:%S' ).dt.second\n",
    "print(shots['TIME_GAME_CLOCK'].max())\n",
    "f = sns.displot(data=shots, x=\"TIME_GAME_CLOCK\", kind='kde', hue='PERIOD', col='SHOT_RESULT', palette='Dark2')\n",
    "\n",
    "plt.show()"
   ]
  },
  {
   "cell_type": "code",
   "execution_count": 50,
   "metadata": {},
   "outputs": [
    {
     "data": {
      "text/plain": [
       "3777"
      ]
     },
     "execution_count": 50,
     "metadata": {},
     "output_type": "execute_result"
    }
   ],
   "source": [
    "#preparing data for all numerical methods\n",
    "\n",
    "shots['GAME_TIME'] = shots.apply(lambda row: (((row['PERIOD'] - 1) * 12 * 60 + (12 * 60 - row['TIME_GAME_CLOCK'])) if row['PERIOD'] <= 4 \n",
    "                        else ((row['PERIOD'] - 5) * 5 * 60 + (5 * 60 - row['TIME_GAME_CLOCK'])) + 4 * 12 * 60), axis=1)\n",
    "\n",
    "\n",
    "shots['GAME_TIME'].max()"
   ]
  },
  {
   "cell_type": "markdown",
   "metadata": {},
   "source": [
    "We can tell that SHOT_CLOCK has missing values this, however, is not a mistake but a specific situation when the shot clock is turned off in the ending 24 seconds of each quarter. This is a standard rule in basketball so we can replace those missing values with time on the game clock. This will not be 100% accurate, but it will give us a good approximation. "
   ]
  },
  {
   "cell_type": "code",
   "execution_count": 51,
   "metadata": {},
   "outputs": [
    {
     "name": "stdout",
     "output_type": "stream",
     "text": [
      "There are no missing values in the dataset!\n"
     ]
    },
    {
     "data": {
      "image/png": "[encoded data removed]",
      "text/plain": [
       "<Figure size 437.375x360 with 1 Axes>"
      ]
     },
     "metadata": {
      "needs_background": "light"
     },
     "output_type": "display_data"
    },
    {
     "name": "stdout",
     "output_type": "stream",
     "text": [
      "24.0\n"
     ]
    }
   ],
   "source": [
    "import math\n",
    "\n",
    "change_values('SHOT_CLOCK', 'TIME_GAME_CLOCK', transformations=lambda x: float(f\"{math.floor(x/60)}.{x%60}\"))\n",
    "check_missing_data(shots)\n",
    "\n",
    "f = sns.displot(data=shots, x=\"SHOT_CLOCK\", kind='kde', hue='SHOT_RESULT')\n",
    "\n",
    "plt.title(\"Shot probability for shot clock\")\n",
    "plt.show()\n",
    "\n",
    "print(shots['SHOT_CLOCK'].max())"
   ]
  },
  {
   "cell_type": "code",
   "execution_count": 52,
   "metadata": {},
   "outputs": [
    {
     "data": {
      "image/png": "[encoded data removed]",
      "text/plain": [
       "<Figure size 437.375x360 with 1 Axes>"
      ]
     },
     "metadata": {
      "needs_background": "light"
     },
     "output_type": "display_data"
    },
    {
     "name": "stdout",
     "output_type": "stream",
     "text": [
      "312\n"
     ]
    },
    {
     "data": {
      "image/png": "[encoded data removed]",
      "text/plain": [
       "<Figure size 437.375x360 with 1 Axes>"
      ]
     },
     "metadata": {
      "needs_background": "light"
     },
     "output_type": "display_data"
    },
    {
     "name": "stdout",
     "output_type": "stream",
     "text": [
      "0.0\n"
     ]
    }
   ],
   "source": [
    "f = sns.displot(data=shots, x=\"TOUCH_TIME\", kind='kde', hue='SHOT_RESULT')\n",
    "\n",
    "plt.title(\"Shot probability for touch time\")\n",
    "plt.show()\n",
    "\n",
    "print(shots[shots['TOUCH_TIME'] < 0].count()['TOUCH_TIME'])\n",
    "\n",
    "shots = shots[shots['TOUCH_TIME'] >= 0]\n",
    "\n",
    "f = sns.displot(data=shots, x=\"TOUCH_TIME\", kind='kde', hue='SHOT_RESULT')\n",
    "\n",
    "plt.title(\"Shot probability for touch time\")\n",
    "plt.show()\n",
    "\n",
    "print(shots['TOUCH_TIME'].min())"
   ]
  },
  {
   "cell_type": "markdown",
   "metadata": {},
   "source": [
    "There is an irregularity in data for touch time since there are some negative values. I couldn't find a reason for this so I just dropped those rows because the number of rows affected was rather small."
   ]
  },
  {
   "cell_type": "code",
   "execution_count": 53,
   "metadata": {},
   "outputs": [
    {
     "name": "stdout",
     "output_type": "stream",
     "text": [
      "Index(['GAME_ID', 'MATCHUP', 'LOCATION', 'W', 'FINAL_MARGIN', 'SHOT_NUMBER',\n",
      "       'PERIOD', 'GAME_CLOCK', 'SHOT_CLOCK', 'DRIBBLES', 'TOUCH_TIME',\n",
      "       'SHOT_DIST', 'PTS_TYPE', 'SHOT_RESULT', 'CLOSEST_DEFENDER',\n",
      "       'CLOSEST_DEFENDER_PLAYER_ID', 'CLOSE_DEF_DIST', 'FGM', 'PTS',\n",
      "       'player_name', 'player_id', 'TIME_GAME_CLOCK', 'GAME_TIME'],\n",
      "      dtype='object')\n"
     ]
    }
   ],
   "source": [
    "shots.head()\n",
    "print(shots.columns)"
   ]
  },
  {
   "cell_type": "markdown",
   "metadata": {},
   "source": [
    "## Methods and training\n",
    "\n",
    "The next step is taking the data and training various models on the training set. For each model, I used a 90/10 train test split. In this phase of the project, I didn't perform any feature engineering. I used accuracy as the primary metric, and I plotted confusion matrices to visualize the effect of class imbalance."
   ]
  },
  {
   "cell_type": "code",
   "execution_count": 54,
   "metadata": {},
   "outputs": [
    {
     "data": {
      "text/html": [
       "<div>\n",
       "<style scoped>\n",
       "    .dataframe tbody tr th:only-of-type {\n",
       "        vertical-align: middle;\n",
       "    }\n",
       "\n",
       "    .dataframe tbody tr th {\n",
       "        vertical-align: top;\n",
       "    }\n",
       "\n",
       "    .dataframe thead th {\n",
       "        text-align: right;\n",
       "    }\n",
       "</style>\n",
       "<table border=\"1\" class=\"dataframe\">\n",
       "  <thead>\n",
       "    <tr style=\"text-align: right;\">\n",
       "      <th></th>\n",
       "      <th>FINAL_MARGIN</th>\n",
       "      <th>SHOT_NUMBER</th>\n",
       "      <th>SHOT_CLOCK</th>\n",
       "      <th>TOUCH_TIME</th>\n",
       "      <th>SHOT_DIST</th>\n",
       "      <th>CLOSE_DEF_DIST</th>\n",
       "      <th>GAME_TIME</th>\n",
       "    </tr>\n",
       "  </thead>\n",
       "  <tbody>\n",
       "    <tr>\n",
       "      <th>FINAL_MARGIN</th>\n",
       "      <td>1.000000</td>\n",
       "      <td>0.000735</td>\n",
       "      <td>-0.002508</td>\n",
       "      <td>0.011191</td>\n",
       "      <td>0.008983</td>\n",
       "      <td>0.033059</td>\n",
       "      <td>-0.004222</td>\n",
       "    </tr>\n",
       "    <tr>\n",
       "      <th>SHOT_NUMBER</th>\n",
       "      <td>0.000735</td>\n",
       "      <td>1.000000</td>\n",
       "      <td>-0.048830</td>\n",
       "      <td>0.146994</td>\n",
       "      <td>0.011704</td>\n",
       "      <td>-0.037666</td>\n",
       "      <td>0.687620</td>\n",
       "    </tr>\n",
       "    <tr>\n",
       "      <th>SHOT_CLOCK</th>\n",
       "      <td>-0.002508</td>\n",
       "      <td>-0.048830</td>\n",
       "      <td>1.000000</td>\n",
       "      <td>-0.146499</td>\n",
       "      <td>-0.183156</td>\n",
       "      <td>0.023699</td>\n",
       "      <td>-0.074686</td>\n",
       "    </tr>\n",
       "    <tr>\n",
       "      <th>TOUCH_TIME</th>\n",
       "      <td>0.011191</td>\n",
       "      <td>0.146994</td>\n",
       "      <td>-0.146499</td>\n",
       "      <td>1.000000</td>\n",
       "      <td>-0.086741</td>\n",
       "      <td>-0.167395</td>\n",
       "      <td>0.069797</td>\n",
       "    </tr>\n",
       "    <tr>\n",
       "      <th>SHOT_DIST</th>\n",
       "      <td>0.008983</td>\n",
       "      <td>0.011704</td>\n",
       "      <td>-0.183156</td>\n",
       "      <td>-0.086741</td>\n",
       "      <td>1.000000</td>\n",
       "      <td>0.522937</td>\n",
       "      <td>0.034168</td>\n",
       "    </tr>\n",
       "    <tr>\n",
       "      <th>CLOSE_DEF_DIST</th>\n",
       "      <td>0.033059</td>\n",
       "      <td>-0.037666</td>\n",
       "      <td>0.023699</td>\n",
       "      <td>-0.167395</td>\n",
       "      <td>0.522937</td>\n",
       "      <td>1.000000</td>\n",
       "      <td>-0.011207</td>\n",
       "    </tr>\n",
       "    <tr>\n",
       "      <th>GAME_TIME</th>\n",
       "      <td>-0.004222</td>\n",
       "      <td>0.687620</td>\n",
       "      <td>-0.074686</td>\n",
       "      <td>0.069797</td>\n",
       "      <td>0.034168</td>\n",
       "      <td>-0.011207</td>\n",
       "      <td>1.000000</td>\n",
       "    </tr>\n",
       "  </tbody>\n",
       "</table>\n",
       "</div>"
      ],
      "text/plain": [
       "                FINAL_MARGIN  SHOT_NUMBER  SHOT_CLOCK  TOUCH_TIME  SHOT_DIST  \\\n",
       "FINAL_MARGIN        1.000000     0.000735   -0.002508    0.011191   0.008983   \n",
       "SHOT_NUMBER         0.000735     1.000000   -0.048830    0.146994   0.011704   \n",
       "SHOT_CLOCK         -0.002508    -0.048830    1.000000   -0.146499  -0.183156   \n",
       "TOUCH_TIME          0.011191     0.146994   -0.146499    1.000000  -0.086741   \n",
       "SHOT_DIST           0.008983     0.011704   -0.183156   -0.086741   1.000000   \n",
       "CLOSE_DEF_DIST      0.033059    -0.037666    0.023699   -0.167395   0.522937   \n",
       "GAME_TIME          -0.004222     0.687620   -0.074686    0.069797   0.034168   \n",
       "\n",
       "                CLOSE_DEF_DIST  GAME_TIME  \n",
       "FINAL_MARGIN          0.033059  -0.004222  \n",
       "SHOT_NUMBER          -0.037666   0.687620  \n",
       "SHOT_CLOCK            0.023699  -0.074686  \n",
       "TOUCH_TIME           -0.167395   0.069797  \n",
       "SHOT_DIST             0.522937   0.034168  \n",
       "CLOSE_DEF_DIST        1.000000  -0.011207  \n",
       "GAME_TIME            -0.011207   1.000000  "
      ]
     },
     "execution_count": 54,
     "metadata": {},
     "output_type": "execute_result"
    }
   ],
   "source": [
    "X = shots[['FINAL_MARGIN', 'SHOT_NUMBER', 'SHOT_CLOCK', 'TOUCH_TIME',\n",
    "       'SHOT_DIST', 'CLOSE_DEF_DIST', 'GAME_TIME']]\n",
    "\n",
    "y = np.ravel(shots[['FGM']])\n",
    "\n",
    "X.corr()"
   ]
  },
  {
   "cell_type": "markdown",
   "metadata": {},
   "source": [
    "I wrote a general function for training any given model. This function was used for each method except XGBoost."
   ]
  },
  {
   "cell_type": "code",
   "execution_count": 55,
   "metadata": {},
   "outputs": [],
   "source": [
    "from sklearn.linear_model import SGDClassifier\n",
    "from sklearn.model_selection import train_test_split, GridSearchCV\n",
    "from sklearn.pipeline import make_pipeline\n",
    "from sklearn.preprocessing import StandardScaler\n",
    "from sklearn.metrics import confusion_matrix, ConfusionMatrixDisplay\n",
    "\n",
    "def train_model(X: pd.DataFrame, y: np.array, model_type=SGDClassifier(), scaler=StandardScaler(), test_size=0.1):\n",
    "    \"\"\"\n",
    "    Function for training different ML methods. You can set different model, scaler, and test size. It prints accuracy scores and plots\n",
    "    a confusion matrix. \n",
    "    \"\"\"\n",
    "    X_train, X_test, y_train, y_test = train_test_split(X, y, test_size=test_size, stratify=y)\n",
    "\n",
    "    if scaler:\n",
    "        pipe = make_pipeline(scaler, model_type)\n",
    "    else:\n",
    "        pipe = make_pipeline(model_type)\n",
    "\n",
    "    model = pipe.fit(X_train, y_train)\n",
    "\n",
    "    print(f\"Accuracy score for train data: {model.score(X_train, y_train)}\")\n",
    "    print(f\"Accuracy score for test data: {model.score(X_test, y_test)}\")\n",
    "\n",
    "    disp_matrix = ConfusionMatrixDisplay(confusion_matrix(y_test, model.predict(X_test)), display_labels=model.classes_)\n",
    "    disp_matrix.plot()\n",
    "    plt.show()\n",
    "\n",
    "    return model\n"
   ]
  },
  {
   "cell_type": "markdown",
   "metadata": {},
   "source": [
    "### Logistic regression\n",
    "\n",
    "This linear model performs decently on this problem given its simplicity. I was able to achive accuracy greater than 60% on test set. To achive good results it is necessary to use scaling and I used a StandardScaler from scikit-learn."
   ]
  },
  {
   "cell_type": "code",
   "execution_count": 58,
   "metadata": {},
   "outputs": [
    {
     "name": "stdout",
     "output_type": "stream",
     "text": [
      "LOGISTIC REGRESSION\n",
      "Accuracy score for train data: 0.6091093311068785\n",
      "Accuracy score for test data: 0.6048058860363181\n"
     ]
    },
    {
     "data": {
      "image/png": "[encoded data removed]",
      "text/plain": [
       "<Figure size 432x288 with 2 Axes>"
      ]
     },
     "metadata": {
      "needs_background": "light"
     },
     "output_type": "display_data"
    }
   ],
   "source": [
    "print(\"LOGISTIC REGRESSION\")\n",
    "\n",
    "log_reg = train_model(X, y, SGDClassifier(loss='log'))\n"
   ]
  },
  {
   "cell_type": "markdown",
   "metadata": {},
   "source": [
    "### SVM\n",
    "\n",
    "Data preparation was more or less the same with logistic regression. Accuracy on test set was also around 60% percent which is better than what Bret achived in his paper. I think that is due to the larger amount of data I used for training."
   ]
  },
  {
   "cell_type": "code",
   "execution_count": 18,
   "metadata": {},
   "outputs": [
    {
     "name": "stdout",
     "output_type": "stream",
     "text": [
      "SVM\n",
      "Accuracy score for train data: 0.6053079072027208\n",
      "Accuracy score for test data: 0.6029515108924807\n"
     ]
    },
    {
     "data": {
      "image/png": "[encoded data removed]",
      "text/plain": [
       "<Figure size 432x288 with 2 Axes>"
      ]
     },
     "metadata": {
      "needs_background": "light"
     },
     "output_type": "display_data"
    }
   ],
   "source": [
    "print(\"SVM\")\n",
    "\n",
    "svm = train_model(X, y, SGDClassifier(loss='hinge'))"
   ]
  },
  {
   "cell_type": "markdown",
   "metadata": {},
   "source": [
    "### Neural network\n",
    "\n",
    "Next, I used a neural network that can model complex nonlinear relationships in the data. Following Bret's paper, I used two NNs with one hidden layer with 50 neurons and one with ReLU, and the other with a sigmoid activation function. Accuracy was a bit better than with logistic regression and SVM. Generally, deeper NNs can model more complex relationships in the data, so that can be a point of further research."
   ]
  },
  {
   "cell_type": "code",
   "execution_count": 59,
   "metadata": {},
   "outputs": [
    {
     "name": "stdout",
     "output_type": "stream",
     "text": [
      "NEURAL NET\n",
      "Accuracy score for train data: 0.6206416712326385\n",
      "Accuracy score for test data: 0.6206167814652473\n"
     ]
    },
    {
     "data": {
      "image/png": "[encoded data removed]",
      "text/plain": [
       "<Figure size 432x288 with 2 Axes>"
      ]
     },
     "metadata": {
      "needs_background": "light"
     },
     "output_type": "display_data"
    },
    {
     "name": "stdout",
     "output_type": "stream",
     "text": [
      "Accuracy score for train data: 0.6192414398900687\n",
      "Accuracy score for test data: 0.618894802755166\n"
     ]
    },
    {
     "data": {
      "image/png": "[encoded data removed]",
      "text/plain": [
       "<Figure size 432x288 with 2 Axes>"
      ]
     },
     "metadata": {
      "needs_background": "light"
     },
     "output_type": "display_data"
    }
   ],
   "source": [
    "from sklearn.neural_network import MLPClassifier\n",
    "\n",
    "print(\"NEURAL NET\")\n",
    "\n",
    "nn = train_model(X, y, MLPClassifier(hidden_layer_sizes=(50,)))\n",
    "nn2 = train_model(X, y, MLPClassifier(hidden_layer_sizes=(50,), activation='logistic'))"
   ]
  },
  {
   "cell_type": "markdown",
   "metadata": {},
   "source": [
    "Following methods, are better suited for using categorical variables so they might benefit from additional information they provide."
   ]
  },
  {
   "cell_type": "code",
   "execution_count": 72,
   "metadata": {},
   "outputs": [
    {
     "name": "stdout",
     "output_type": "stream",
     "text": [
      "GAME_ID                       int64\n",
      "SHOT_NUMBER                   int64\n",
      "PERIOD                        int64\n",
      "DRIBBLES                      int64\n",
      "PTS_TYPE                      int64\n",
      "CLOSEST_DEFENDER_PLAYER_ID    int64\n",
      "player_id                     int64\n",
      "dtype: object\n"
     ]
    }
   ],
   "source": [
    "X_cat = shots[['GAME_ID', 'SHOT_NUMBER', \n",
    "       'PERIOD', 'DRIBBLES', 'PTS_TYPE',\n",
    "       'CLOSEST_DEFENDER_PLAYER_ID', 'player_id']]\n",
    "\n",
    "X_cat.corr()\n",
    "print(X_cat.dtypes)"
   ]
  },
  {
   "cell_type": "markdown",
   "metadata": {},
   "source": [
    "### Naive Bayes\n",
    "\n",
    "This simple algorithm didn't perform well on this dataset with or without categorical data. In my opinion this problem might be a little to complex for it. I included numerical data through binning. I binned numerical data in 4 categories."
   ]
  },
  {
   "cell_type": "code",
   "execution_count": 73,
   "metadata": {},
   "outputs": [
    {
     "name": "stdout",
     "output_type": "stream",
     "text": [
      "NAIVE BAYES\n",
      "Accuracy score for train data: 0.5127803724093546\n",
      "Accuracy score for test data: 0.5097056981840952\n"
     ]
    },
    {
     "data": {
      "image/png": "[encoded data removed]",
      "text/plain": [
       "<Figure size 432x288 with 2 Axes>"
      ]
     },
     "metadata": {
      "needs_background": "light"
     },
     "output_type": "display_data"
    }
   ],
   "source": [
    "from sklearn.naive_bayes import MultinomialNB\n",
    "from sklearn.preprocessing import MinMaxScaler, OneHotEncoder\n",
    "\n",
    "print(\"NAIVE BAYES\")\n",
    "\n",
    "nb = train_model(X_cat, y, MultinomialNB(), False)\n"
   ]
  },
  {
   "cell_type": "code",
   "execution_count": 75,
   "metadata": {},
   "outputs": [
    {
     "data": {
      "text/html": [
       "<div>\n",
       "<style scoped>\n",
       "    .dataframe tbody tr th:only-of-type {\n",
       "        vertical-align: middle;\n",
       "    }\n",
       "\n",
       "    .dataframe tbody tr th {\n",
       "        vertical-align: top;\n",
       "    }\n",
       "\n",
       "    .dataframe thead th {\n",
       "        text-align: right;\n",
       "    }\n",
       "</style>\n",
       "<table border=\"1\" class=\"dataframe\">\n",
       "  <thead>\n",
       "    <tr style=\"text-align: right;\">\n",
       "      <th></th>\n",
       "      <th>GAME_ID</th>\n",
       "      <th>SHOT_NUMBER</th>\n",
       "      <th>PERIOD</th>\n",
       "      <th>DRIBBLES</th>\n",
       "      <th>PTS_TYPE</th>\n",
       "      <th>CLOSEST_DEFENDER_PLAYER_ID</th>\n",
       "      <th>player_id</th>\n",
       "      <th>FINAL_MARGIN</th>\n",
       "      <th>SHOT_CLOCK</th>\n",
       "      <th>TOUCH_TIME</th>\n",
       "      <th>SHOT_DIST</th>\n",
       "      <th>CLOSE_DEF_DIST</th>\n",
       "      <th>GAME_TIME</th>\n",
       "    </tr>\n",
       "  </thead>\n",
       "  <tbody>\n",
       "    <tr>\n",
       "      <th>GAME_ID</th>\n",
       "      <td>1.000000</td>\n",
       "      <td>0.008284</td>\n",
       "      <td>-0.008819</td>\n",
       "      <td>0.001938</td>\n",
       "      <td>0.003336</td>\n",
       "      <td>0.028595</td>\n",
       "      <td>0.027689</td>\n",
       "      <td>0.002363</td>\n",
       "      <td>0.015294</td>\n",
       "      <td>-0.004412</td>\n",
       "      <td>0.000232</td>\n",
       "      <td>0.006906</td>\n",
       "      <td>-0.008463</td>\n",
       "    </tr>\n",
       "    <tr>\n",
       "      <th>SHOT_NUMBER</th>\n",
       "      <td>0.008284</td>\n",
       "      <td>1.000000</td>\n",
       "      <td>0.654968</td>\n",
       "      <td>0.141385</td>\n",
       "      <td>0.003055</td>\n",
       "      <td>0.013087</td>\n",
       "      <td>-0.006464</td>\n",
       "      <td>0.000785</td>\n",
       "      <td>-0.045076</td>\n",
       "      <td>0.124638</td>\n",
       "      <td>0.011021</td>\n",
       "      <td>-0.040434</td>\n",
       "      <td>0.656440</td>\n",
       "    </tr>\n",
       "    <tr>\n",
       "      <th>PERIOD</th>\n",
       "      <td>-0.008819</td>\n",
       "      <td>0.654968</td>\n",
       "      <td>1.000000</td>\n",
       "      <td>0.055311</td>\n",
       "      <td>0.048868</td>\n",
       "      <td>0.011270</td>\n",
       "      <td>0.004854</td>\n",
       "      <td>-0.004167</td>\n",
       "      <td>-0.048721</td>\n",
       "      <td>0.026526</td>\n",
       "      <td>0.031505</td>\n",
       "      <td>-0.008842</td>\n",
       "      <td>0.959616</td>\n",
       "    </tr>\n",
       "    <tr>\n",
       "      <th>DRIBBLES</th>\n",
       "      <td>0.001938</td>\n",
       "      <td>0.141385</td>\n",
       "      <td>0.055311</td>\n",
       "      <td>1.000000</td>\n",
       "      <td>-0.169628</td>\n",
       "      <td>0.016906</td>\n",
       "      <td>0.023756</td>\n",
       "      <td>0.012379</td>\n",
       "      <td>-0.085525</td>\n",
       "      <td>0.758685</td>\n",
       "      <td>-0.079261</td>\n",
       "      <td>-0.148070</td>\n",
       "      <td>0.073974</td>\n",
       "    </tr>\n",
       "    <tr>\n",
       "      <th>PTS_TYPE</th>\n",
       "      <td>0.003336</td>\n",
       "      <td>0.003055</td>\n",
       "      <td>0.048868</td>\n",
       "      <td>-0.169628</td>\n",
       "      <td>1.000000</td>\n",
       "      <td>0.006317</td>\n",
       "      <td>0.010594</td>\n",
       "      <td>0.021778</td>\n",
       "      <td>-0.038831</td>\n",
       "      <td>-0.283410</td>\n",
       "      <td>0.753136</td>\n",
       "      <td>0.428909</td>\n",
       "      <td>0.056675</td>\n",
       "    </tr>\n",
       "    <tr>\n",
       "      <th>CLOSEST_DEFENDER_PLAYER_ID</th>\n",
       "      <td>0.028595</td>\n",
       "      <td>0.013087</td>\n",
       "      <td>0.011270</td>\n",
       "      <td>0.016906</td>\n",
       "      <td>0.006317</td>\n",
       "      <td>1.000000</td>\n",
       "      <td>-0.002535</td>\n",
       "      <td>0.057165</td>\n",
       "      <td>-0.000682</td>\n",
       "      <td>0.013705</td>\n",
       "      <td>0.004466</td>\n",
       "      <td>-0.014374</td>\n",
       "      <td>0.011905</td>\n",
       "    </tr>\n",
       "    <tr>\n",
       "      <th>player_id</th>\n",
       "      <td>0.027689</td>\n",
       "      <td>-0.006464</td>\n",
       "      <td>0.004854</td>\n",
       "      <td>0.023756</td>\n",
       "      <td>0.010594</td>\n",
       "      <td>-0.002535</td>\n",
       "      <td>1.000000</td>\n",
       "      <td>-0.049415</td>\n",
       "      <td>0.035913</td>\n",
       "      <td>0.001443</td>\n",
       "      <td>-0.024452</td>\n",
       "      <td>0.006809</td>\n",
       "      <td>0.003218</td>\n",
       "    </tr>\n",
       "    <tr>\n",
       "      <th>FINAL_MARGIN</th>\n",
       "      <td>0.002363</td>\n",
       "      <td>0.000785</td>\n",
       "      <td>-0.004167</td>\n",
       "      <td>0.012379</td>\n",
       "      <td>0.021778</td>\n",
       "      <td>0.057165</td>\n",
       "      <td>-0.049415</td>\n",
       "      <td>1.000000</td>\n",
       "      <td>-0.004690</td>\n",
       "      <td>-0.009069</td>\n",
       "      <td>0.007869</td>\n",
       "      <td>0.029433</td>\n",
       "      <td>-0.005040</td>\n",
       "    </tr>\n",
       "    <tr>\n",
       "      <th>SHOT_CLOCK</th>\n",
       "      <td>0.015294</td>\n",
       "      <td>-0.045076</td>\n",
       "      <td>-0.048721</td>\n",
       "      <td>-0.085525</td>\n",
       "      <td>-0.038831</td>\n",
       "      <td>-0.000682</td>\n",
       "      <td>0.035913</td>\n",
       "      <td>-0.004690</td>\n",
       "      <td>1.000000</td>\n",
       "      <td>-0.113780</td>\n",
       "      <td>-0.151013</td>\n",
       "      <td>0.010959</td>\n",
       "      <td>-0.073243</td>\n",
       "    </tr>\n",
       "    <tr>\n",
       "      <th>TOUCH_TIME</th>\n",
       "      <td>-0.004412</td>\n",
       "      <td>0.124638</td>\n",
       "      <td>0.026526</td>\n",
       "      <td>0.758685</td>\n",
       "      <td>-0.283410</td>\n",
       "      <td>0.013705</td>\n",
       "      <td>0.001443</td>\n",
       "      <td>-0.009069</td>\n",
       "      <td>-0.113780</td>\n",
       "      <td>1.000000</td>\n",
       "      <td>-0.156599</td>\n",
       "      <td>-0.250927</td>\n",
       "      <td>0.033967</td>\n",
       "    </tr>\n",
       "    <tr>\n",
       "      <th>SHOT_DIST</th>\n",
       "      <td>0.000232</td>\n",
       "      <td>0.011021</td>\n",
       "      <td>0.031505</td>\n",
       "      <td>-0.079261</td>\n",
       "      <td>0.753136</td>\n",
       "      <td>0.004466</td>\n",
       "      <td>-0.024452</td>\n",
       "      <td>0.007869</td>\n",
       "      <td>-0.151013</td>\n",
       "      <td>-0.156599</td>\n",
       "      <td>1.000000</td>\n",
       "      <td>0.549633</td>\n",
       "      <td>0.036340</td>\n",
       "    </tr>\n",
       "    <tr>\n",
       "      <th>CLOSE_DEF_DIST</th>\n",
       "      <td>0.006906</td>\n",
       "      <td>-0.040434</td>\n",
       "      <td>-0.008842</td>\n",
       "      <td>-0.148070</td>\n",
       "      <td>0.428909</td>\n",
       "      <td>-0.014374</td>\n",
       "      <td>0.006809</td>\n",
       "      <td>0.029433</td>\n",
       "      <td>0.010959</td>\n",
       "      <td>-0.250927</td>\n",
       "      <td>0.549633</td>\n",
       "      <td>1.000000</td>\n",
       "      <td>-0.009404</td>\n",
       "    </tr>\n",
       "    <tr>\n",
       "      <th>GAME_TIME</th>\n",
       "      <td>-0.008463</td>\n",
       "      <td>0.656440</td>\n",
       "      <td>0.959616</td>\n",
       "      <td>0.073974</td>\n",
       "      <td>0.056675</td>\n",
       "      <td>0.011905</td>\n",
       "      <td>0.003218</td>\n",
       "      <td>-0.005040</td>\n",
       "      <td>-0.073243</td>\n",
       "      <td>0.033967</td>\n",
       "      <td>0.036340</td>\n",
       "      <td>-0.009404</td>\n",
       "      <td>1.000000</td>\n",
       "    </tr>\n",
       "  </tbody>\n",
       "</table>\n",
       "</div>"
      ],
      "text/plain": [
       "                             GAME_ID  SHOT_NUMBER    PERIOD  DRIBBLES  \\\n",
       "GAME_ID                     1.000000     0.008284 -0.008819  0.001938   \n",
       "SHOT_NUMBER                 0.008284     1.000000  0.654968  0.141385   \n",
       "PERIOD                     -0.008819     0.654968  1.000000  0.055311   \n",
       "DRIBBLES                    0.001938     0.141385  0.055311  1.000000   \n",
       "PTS_TYPE                    0.003336     0.003055  0.048868 -0.169628   \n",
       "CLOSEST_DEFENDER_PLAYER_ID  0.028595     0.013087  0.011270  0.016906   \n",
       "player_id                   0.027689    -0.006464  0.004854  0.023756   \n",
       "FINAL_MARGIN                0.002363     0.000785 -0.004167  0.012379   \n",
       "SHOT_CLOCK                  0.015294    -0.045076 -0.048721 -0.085525   \n",
       "TOUCH_TIME                 -0.004412     0.124638  0.026526  0.758685   \n",
       "SHOT_DIST                   0.000232     0.011021  0.031505 -0.079261   \n",
       "CLOSE_DEF_DIST              0.006906    -0.040434 -0.008842 -0.148070   \n",
       "GAME_TIME                  -0.008463     0.656440  0.959616  0.073974   \n",
       "\n",
       "                            PTS_TYPE  CLOSEST_DEFENDER_PLAYER_ID  player_id  \\\n",
       "GAME_ID                     0.003336                    0.028595   0.027689   \n",
       "SHOT_NUMBER                 0.003055                    0.013087  -0.006464   \n",
       "PERIOD                      0.048868                    0.011270   0.004854   \n",
       "DRIBBLES                   -0.169628                    0.016906   0.023756   \n",
       "PTS_TYPE                    1.000000                    0.006317   0.010594   \n",
       "CLOSEST_DEFENDER_PLAYER_ID  0.006317                    1.000000  -0.002535   \n",
       "player_id                   0.010594                   -0.002535   1.000000   \n",
       "FINAL_MARGIN                0.021778                    0.057165  -0.049415   \n",
       "SHOT_CLOCK                 -0.038831                   -0.000682   0.035913   \n",
       "TOUCH_TIME                 -0.283410                    0.013705   0.001443   \n",
       "SHOT_DIST                   0.753136                    0.004466  -0.024452   \n",
       "CLOSE_DEF_DIST              0.428909                   -0.014374   0.006809   \n",
       "GAME_TIME                   0.056675                    0.011905   0.003218   \n",
       "\n",
       "                            FINAL_MARGIN  SHOT_CLOCK  TOUCH_TIME  SHOT_DIST  \\\n",
       "GAME_ID                         0.002363    0.015294   -0.004412   0.000232   \n",
       "SHOT_NUMBER                     0.000785   -0.045076    0.124638   0.011021   \n",
       "PERIOD                         -0.004167   -0.048721    0.026526   0.031505   \n",
       "DRIBBLES                        0.012379   -0.085525    0.758685  -0.079261   \n",
       "PTS_TYPE                        0.021778   -0.038831   -0.283410   0.753136   \n",
       "CLOSEST_DEFENDER_PLAYER_ID      0.057165   -0.000682    0.013705   0.004466   \n",
       "player_id                      -0.049415    0.035913    0.001443  -0.024452   \n",
       "FINAL_MARGIN                    1.000000   -0.004690   -0.009069   0.007869   \n",
       "SHOT_CLOCK                     -0.004690    1.000000   -0.113780  -0.151013   \n",
       "TOUCH_TIME                     -0.009069   -0.113780    1.000000  -0.156599   \n",
       "SHOT_DIST                       0.007869   -0.151013   -0.156599   1.000000   \n",
       "CLOSE_DEF_DIST                  0.029433    0.010959   -0.250927   0.549633   \n",
       "GAME_TIME                      -0.005040   -0.073243    0.033967   0.036340   \n",
       "\n",
       "                            CLOSE_DEF_DIST  GAME_TIME  \n",
       "GAME_ID                           0.006906  -0.008463  \n",
       "SHOT_NUMBER                      -0.040434   0.656440  \n",
       "PERIOD                           -0.008842   0.959616  \n",
       "DRIBBLES                         -0.148070   0.073974  \n",
       "PTS_TYPE                          0.428909   0.056675  \n",
       "CLOSEST_DEFENDER_PLAYER_ID       -0.014374   0.011905  \n",
       "player_id                         0.006809   0.003218  \n",
       "FINAL_MARGIN                      0.029433  -0.005040  \n",
       "SHOT_CLOCK                        0.010959  -0.073243  \n",
       "TOUCH_TIME                       -0.250927   0.033967  \n",
       "SHOT_DIST                         0.549633   0.036340  \n",
       "CLOSE_DEF_DIST                    1.000000  -0.009404  \n",
       "GAME_TIME                        -0.009404   1.000000  "
      ]
     },
     "execution_count": 75,
     "metadata": {},
     "output_type": "execute_result"
    }
   ],
   "source": [
    "for elem in X.columns:\n",
    "    if elem not in X_cat.columns:\n",
    "        print(elem)\n",
    "        print([X[elem].min(), X[elem].mean() - X[elem].std(), X[elem].mean(), X[elem].mean() + X[elem].std(), X[elem].max()])\n",
    "        new_col = pd.cut(X[elem], [X[elem].min(), X[elem].mean() - X[elem].std() if X[elem].mean() - X[elem].std() > X[elem].min() else (X[elem].min() + X[elem].mean())/2,\n",
    "                        X[elem].mean(), X[elem].mean() + X[elem].std(), X[elem].max()], labels=False, include_lowest=True)\n",
    "        X_cat.insert(len(X_cat.columns), elem, new_col, False)\n",
    "\n",
    "X_cat.corr()"
   ]
  },
  {
   "cell_type": "code",
   "execution_count": 76,
   "metadata": {},
   "outputs": [
    {
     "name": "stdout",
     "output_type": "stream",
     "text": [
      "NAIVE BAYES\n",
      "Accuracy score for train data: 0.5132326210417373\n",
      "Accuracy score for test data: 0.5056355666875392\n"
     ]
    },
    {
     "data": {
      "image/png": "[encoded data removed]",
      "text/plain": [
       "<Figure size 432x288 with 2 Axes>"
      ]
     },
     "metadata": {
      "needs_background": "light"
     },
     "output_type": "display_data"
    },
    {
     "name": "stdout",
     "output_type": "stream",
     "text": [
      "Accuracy score for train data: 0.5249823883946043\n",
      "Accuracy score for test data: 0.5177676894176582\n"
     ]
    },
    {
     "data": {
      "image/png": "[encoded data removed]",
      "text/plain": [
       "<Figure size 432x288 with 2 Axes>"
      ]
     },
     "metadata": {
      "needs_background": "light"
     },
     "output_type": "display_data"
    }
   ],
   "source": [
    "bayesX = X_cat.drop(labels=[\"SHOT_DIST\", \"GAME_TIME\", \"TOUCH_TIME\"], axis=1)\n",
    "\n",
    "print(\"NAIVE BAYES\")\n",
    "\n",
    "nb = train_model(X_cat, y, MultinomialNB(), False)\n",
    "nb = train_model(bayesX, y, MultinomialNB(), False)"
   ]
  },
  {
   "cell_type": "code",
   "execution_count": 78,
   "metadata": {},
   "outputs": [
    {
     "data": {
      "text/html": [
       "<div>\n",
       "<style scoped>\n",
       "    .dataframe tbody tr th:only-of-type {\n",
       "        vertical-align: middle;\n",
       "    }\n",
       "\n",
       "    .dataframe tbody tr th {\n",
       "        vertical-align: top;\n",
       "    }\n",
       "\n",
       "    .dataframe thead th {\n",
       "        text-align: right;\n",
       "    }\n",
       "</style>\n",
       "<table border=\"1\" class=\"dataframe\">\n",
       "  <thead>\n",
       "    <tr style=\"text-align: right;\">\n",
       "      <th></th>\n",
       "      <th>GAME_ID</th>\n",
       "      <th>FINAL_MARGIN</th>\n",
       "      <th>SHOT_NUMBER</th>\n",
       "      <th>SHOT_CLOCK</th>\n",
       "      <th>TOUCH_TIME</th>\n",
       "      <th>SHOT_DIST</th>\n",
       "      <th>CLOSEST_DEFENDER_PLAYER_ID</th>\n",
       "      <th>CLOSE_DEF_DIST</th>\n",
       "      <th>player_id</th>\n",
       "      <th>GAME_TIME</th>\n",
       "    </tr>\n",
       "  </thead>\n",
       "  <tbody>\n",
       "    <tr>\n",
       "      <th>GAME_ID</th>\n",
       "      <td>1.000000</td>\n",
       "      <td>0.001571</td>\n",
       "      <td>0.008284</td>\n",
       "      <td>0.015021</td>\n",
       "      <td>-0.000906</td>\n",
       "      <td>-0.000411</td>\n",
       "      <td>0.028595</td>\n",
       "      <td>0.006646</td>\n",
       "      <td>0.027689</td>\n",
       "      <td>-0.008547</td>\n",
       "    </tr>\n",
       "    <tr>\n",
       "      <th>FINAL_MARGIN</th>\n",
       "      <td>0.001571</td>\n",
       "      <td>1.000000</td>\n",
       "      <td>0.000735</td>\n",
       "      <td>-0.002508</td>\n",
       "      <td>0.011191</td>\n",
       "      <td>0.008983</td>\n",
       "      <td>0.057380</td>\n",
       "      <td>0.033059</td>\n",
       "      <td>-0.050677</td>\n",
       "      <td>-0.004222</td>\n",
       "    </tr>\n",
       "    <tr>\n",
       "      <th>SHOT_NUMBER</th>\n",
       "      <td>0.008284</td>\n",
       "      <td>0.000735</td>\n",
       "      <td>1.000000</td>\n",
       "      <td>-0.048830</td>\n",
       "      <td>0.146994</td>\n",
       "      <td>0.011704</td>\n",
       "      <td>0.013087</td>\n",
       "      <td>-0.037666</td>\n",
       "      <td>-0.006464</td>\n",
       "      <td>0.687620</td>\n",
       "    </tr>\n",
       "    <tr>\n",
       "      <th>SHOT_CLOCK</th>\n",
       "      <td>0.015021</td>\n",
       "      <td>-0.002508</td>\n",
       "      <td>-0.048830</td>\n",
       "      <td>1.000000</td>\n",
       "      <td>-0.146499</td>\n",
       "      <td>-0.183156</td>\n",
       "      <td>-0.001773</td>\n",
       "      <td>0.023699</td>\n",
       "      <td>0.036113</td>\n",
       "      <td>-0.074686</td>\n",
       "    </tr>\n",
       "    <tr>\n",
       "      <th>TOUCH_TIME</th>\n",
       "      <td>-0.000906</td>\n",
       "      <td>0.011191</td>\n",
       "      <td>0.146994</td>\n",
       "      <td>-0.146499</td>\n",
       "      <td>1.000000</td>\n",
       "      <td>-0.086741</td>\n",
       "      <td>0.016254</td>\n",
       "      <td>-0.167395</td>\n",
       "      <td>0.001924</td>\n",
       "      <td>0.069797</td>\n",
       "    </tr>\n",
       "    <tr>\n",
       "      <th>SHOT_DIST</th>\n",
       "      <td>-0.000411</td>\n",
       "      <td>0.008983</td>\n",
       "      <td>0.011704</td>\n",
       "      <td>-0.183156</td>\n",
       "      <td>-0.086741</td>\n",
       "      <td>1.000000</td>\n",
       "      <td>0.002868</td>\n",
       "      <td>0.522937</td>\n",
       "      <td>-0.024247</td>\n",
       "      <td>0.034168</td>\n",
       "    </tr>\n",
       "    <tr>\n",
       "      <th>CLOSEST_DEFENDER_PLAYER_ID</th>\n",
       "      <td>0.028595</td>\n",
       "      <td>0.057380</td>\n",
       "      <td>0.013087</td>\n",
       "      <td>-0.001773</td>\n",
       "      <td>0.016254</td>\n",
       "      <td>0.002868</td>\n",
       "      <td>1.000000</td>\n",
       "      <td>-0.015037</td>\n",
       "      <td>-0.002535</td>\n",
       "      <td>0.013205</td>\n",
       "    </tr>\n",
       "    <tr>\n",
       "      <th>CLOSE_DEF_DIST</th>\n",
       "      <td>0.006646</td>\n",
       "      <td>0.033059</td>\n",
       "      <td>-0.037666</td>\n",
       "      <td>0.023699</td>\n",
       "      <td>-0.167395</td>\n",
       "      <td>0.522937</td>\n",
       "      <td>-0.015037</td>\n",
       "      <td>1.000000</td>\n",
       "      <td>0.008750</td>\n",
       "      <td>-0.011207</td>\n",
       "    </tr>\n",
       "    <tr>\n",
       "      <th>player_id</th>\n",
       "      <td>0.027689</td>\n",
       "      <td>-0.050677</td>\n",
       "      <td>-0.006464</td>\n",
       "      <td>0.036113</td>\n",
       "      <td>0.001924</td>\n",
       "      <td>-0.024247</td>\n",
       "      <td>-0.002535</td>\n",
       "      <td>0.008750</td>\n",
       "      <td>1.000000</td>\n",
       "      <td>0.006340</td>\n",
       "    </tr>\n",
       "    <tr>\n",
       "      <th>GAME_TIME</th>\n",
       "      <td>-0.008547</td>\n",
       "      <td>-0.004222</td>\n",
       "      <td>0.687620</td>\n",
       "      <td>-0.074686</td>\n",
       "      <td>0.069797</td>\n",
       "      <td>0.034168</td>\n",
       "      <td>0.013205</td>\n",
       "      <td>-0.011207</td>\n",
       "      <td>0.006340</td>\n",
       "      <td>1.000000</td>\n",
       "    </tr>\n",
       "  </tbody>\n",
       "</table>\n",
       "</div>"
      ],
      "text/plain": [
       "                             GAME_ID  FINAL_MARGIN  SHOT_NUMBER  SHOT_CLOCK  \\\n",
       "GAME_ID                     1.000000      0.001571     0.008284    0.015021   \n",
       "FINAL_MARGIN                0.001571      1.000000     0.000735   -0.002508   \n",
       "SHOT_NUMBER                 0.008284      0.000735     1.000000   -0.048830   \n",
       "SHOT_CLOCK                  0.015021     -0.002508    -0.048830    1.000000   \n",
       "TOUCH_TIME                 -0.000906      0.011191     0.146994   -0.146499   \n",
       "SHOT_DIST                  -0.000411      0.008983     0.011704   -0.183156   \n",
       "CLOSEST_DEFENDER_PLAYER_ID  0.028595      0.057380     0.013087   -0.001773   \n",
       "CLOSE_DEF_DIST              0.006646      0.033059    -0.037666    0.023699   \n",
       "player_id                   0.027689     -0.050677    -0.006464    0.036113   \n",
       "GAME_TIME                  -0.008547     -0.004222     0.687620   -0.074686   \n",
       "\n",
       "                            TOUCH_TIME  SHOT_DIST  CLOSEST_DEFENDER_PLAYER_ID  \\\n",
       "GAME_ID                      -0.000906  -0.000411                    0.028595   \n",
       "FINAL_MARGIN                  0.011191   0.008983                    0.057380   \n",
       "SHOT_NUMBER                   0.146994   0.011704                    0.013087   \n",
       "SHOT_CLOCK                   -0.146499  -0.183156                   -0.001773   \n",
       "TOUCH_TIME                    1.000000  -0.086741                    0.016254   \n",
       "SHOT_DIST                    -0.086741   1.000000                    0.002868   \n",
       "CLOSEST_DEFENDER_PLAYER_ID    0.016254   0.002868                    1.000000   \n",
       "CLOSE_DEF_DIST               -0.167395   0.522937                   -0.015037   \n",
       "player_id                     0.001924  -0.024247                   -0.002535   \n",
       "GAME_TIME                     0.069797   0.034168                    0.013205   \n",
       "\n",
       "                            CLOSE_DEF_DIST  player_id  GAME_TIME  \n",
       "GAME_ID                           0.006646   0.027689  -0.008547  \n",
       "FINAL_MARGIN                      0.033059  -0.050677  -0.004222  \n",
       "SHOT_NUMBER                      -0.037666  -0.006464   0.687620  \n",
       "SHOT_CLOCK                        0.023699   0.036113  -0.074686  \n",
       "TOUCH_TIME                       -0.167395   0.001924   0.069797  \n",
       "SHOT_DIST                         0.522937  -0.024247   0.034168  \n",
       "CLOSEST_DEFENDER_PLAYER_ID       -0.015037  -0.002535   0.013205  \n",
       "CLOSE_DEF_DIST                    1.000000   0.008750  -0.011207  \n",
       "player_id                         0.008750   1.000000   0.006340  \n",
       "GAME_TIME                        -0.011207   0.006340   1.000000  "
      ]
     },
     "execution_count": 78,
     "metadata": {},
     "output_type": "execute_result"
    }
   ],
   "source": [
    "X_ensemble = shots[['GAME_ID', 'FINAL_MARGIN', 'SHOT_NUMBER',\n",
    "       'SHOT_CLOCK', 'TOUCH_TIME',\n",
    "       'SHOT_DIST','CLOSEST_DEFENDER_PLAYER_ID', \n",
    "       'CLOSE_DEF_DIST', 'player_id','GAME_TIME']]\n",
    "\n",
    "X_ensemble.corr()"
   ]
  },
  {
   "cell_type": "markdown",
   "metadata": {},
   "source": [
    "### Random Forest\n",
    "\n",
    "Now we are switching over to our first ensemble algorithm, Random Forest. This algorithm delivers results on par with neural networks and works well without scaling the data. Further, improvements could be done with a grid search for optimal parameters."
   ]
  },
  {
   "cell_type": "code",
   "execution_count": 79,
   "metadata": {},
   "outputs": [
    {
     "name": "stdout",
     "output_type": "stream",
     "text": [
      "RANDOM FOREST\n",
      "Accuracy score for train data: 0.7520372931179934\n",
      "Accuracy score for test data: 0.6220256731371321\n"
     ]
    },
    {
     "data": {
      "image/png": "[encoded data removed]",
      "text/plain": [
       "<Figure size 432x288 with 2 Axes>"
      ]
     },
     "metadata": {
      "needs_background": "light"
     },
     "output_type": "display_data"
    }
   ],
   "source": [
    "from sklearn.ensemble import RandomForestClassifier\n",
    "\n",
    "print(\"RANDOM FOREST\")\n",
    "\n",
    "rf = train_model(X_ensemble, y, RandomForestClassifier(n_estimators=80, max_depth=15), False)"
   ]
  },
  {
   "cell_type": "markdown",
   "metadata": {},
   "source": [
    "### XGBoost\n",
    "\n",
    "Finally, we have the best algorithm in my project, XGBoost. I managed to obtain 67% accuracy on the test set that is 5% greater than the accuracy of other algorithms. To be fair XGBoost was the only method where I implemented grid search for best parameters so, to do a fair comparison, grid search will have to be implemented for all algorithms. I took parameters for grid search from [Kaggle user Pablo Castilla](https://www.kaggle.com/pablocastilla/predict-if-a-shot-is-made)."
   ]
  },
  {
   "cell_type": "code",
   "execution_count": 80,
   "metadata": {},
   "outputs": [
    {
     "name": "stdout",
     "output_type": "stream",
     "text": [
      "Accuracy score for train data: 0.6890655467226638\n",
      "Accuracy score for test data: 0.6711322385479689\n"
     ]
    },
    {
     "data": {
      "image/png": "[encoded data removed]",
      "text/plain": [
       "<Figure size 432x288 with 2 Axes>"
      ]
     },
     "metadata": {
      "needs_background": "light"
     },
     "output_type": "display_data"
    }
   ],
   "source": [
    "from xgboost import XGBClassifier\n",
    "from sklearn.compose import ColumnTransformer\n",
    "\n",
    "X_xgb = shots[['FINAL_MARGIN', 'SHOT_NUMBER', 'SHOT_CLOCK', 'TOUCH_TIME',\n",
    "       'SHOT_DIST', 'CLOSE_DEF_DIST', 'GAME_TIME', 'GAME_ID', 'CLOSEST_DEFENDER_PLAYER_ID', 'player_id']]\n",
    "\n",
    "X_num = ['FINAL_MARGIN', 'SHOT_NUMBER', 'SHOT_CLOCK', 'TOUCH_TIME',\n",
    "       'SHOT_DIST', 'CLOSE_DEF_DIST', 'GAME_TIME']\n",
    "X_cat = ['GAME_ID', 'CLOSEST_DEFENDER_PLAYER_ID', 'player_id']\n",
    "\n",
    "num_pipe = make_pipeline(StandardScaler())\n",
    "cat_pipe = make_pipeline(OneHotEncoder())\n",
    "\n",
    "final = ColumnTransformer(transformers=[\n",
    "    (\"numeric\", num_pipe, X_num),\n",
    "    (\"categorical\", cat_pipe, X_cat)\n",
    "])\n",
    "\n",
    "X_procc = final.fit_transform(X_xgb)\n",
    "\n",
    "X_train, X_test, y_train, y_test = train_test_split(X_procc, y, test_size=0.1, stratify=y)\n",
    "\n",
    "parameters_for_testing = {\n",
    "    'min_child_weight':[0.0001,0.001,0.01],\n",
    "    'learning_rate':[0.00001,0.0001,0.001],\n",
    "    'n_estimators':[1,3,5,10],\n",
    "    'max_depth':[3,4]\n",
    "}\n",
    "\n",
    "xgb_model = XGBClassifier(use_label_encoder=False, eval_metric='logloss')\n",
    "\n",
    "gsearch1 = GridSearchCV(estimator = xgb_model, param_grid = parameters_for_testing, scoring='precision')\n",
    "\n",
    "xgb = gsearch1.fit(X_train, y_train)\n",
    "\n",
    "print(f\"Accuracy score for train data: {xgb.score(X_train, y_train)}\")\n",
    "print(f\"Accuracy score for test data: {xgb.score(X_test, y_test)}\")\n",
    "\n",
    "disp_matrix = ConfusionMatrixDisplay(confusion_matrix(y_test, xgb.predict(X_test)), display_labels=xgb.classes_)\n",
    "disp_matrix.plot()\n",
    "plt.show()"
   ]
  },
  {
   "cell_type": "code",
   "execution_count": 84,
   "metadata": {},
   "outputs": [
    {
     "name": "stdout",
     "output_type": "stream",
     "text": [
      "{'learning_rate': 1e-05, 'max_depth': 3, 'min_child_weight': 0.0001, 'n_estimators': 1}\n"
     ]
    }
   ],
   "source": [
    "print(xgb.best_params_)"
   ]
  },
  {
   "cell_type": "markdown",
   "metadata": {},
   "source": [
    "## Conclusion\n",
    "\n",
    "I implemented 6 machine learning methods to tackle the problem of predicting if a shot in the NBA will be made. I obtained slightly better results with most methods than Bret did in his paper. However, my best result of 67% percent using XGBoost is nothing remarkable, thus, leaving room for additional improvement. My first instinct would be to include the one-hot encoded categorical variables in numerical algorithms. Also, with this increased number of features, I would try and train deeper neural networks. Lastly, feature engineering wasn't used in any of the experiments and that leaves a lot of possibilities for further improvement."
   ]
  },
  {
   "cell_type": "markdown",
   "metadata": {},
   "source": [
    "## Summary\n",
    "\n",
    "*Best method: XGBoost*\n",
    "\n",
    "*Accuracy on test set: 67%*"
   ]
  }
 ],
 "metadata": {
  "interpreter": {
   "hash": "6cad293bc0b49d4846ee75abe02cc89bf6cece8daa433964cb89a78eee53f72e"
  },
  "kernelspec": {
   "display_name": "Python 3.8.1 64-bit",
   "language": "python",
   "name": "python3"
  },
  "language_info": {
   "codemirror_mode": {
    "name": "ipython",
    "version": 3
   },
   "file_extension": ".py",
   "mimetype": "text/x-python",
   "name": "python",
   "nbconvert_exporter": "python",
   "pygments_lexer": "ipython3",
   "version": "3.8.1"
  },
  "orig_nbformat": 4
 },
 "nbformat": 4,
 "nbformat_minor": 2
}
