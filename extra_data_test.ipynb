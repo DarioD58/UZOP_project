{
 "cells": [
  {
   "cell_type": "code",
   "execution_count": 1,
   "metadata": {},
   "outputs": [],
   "source": [
    "import pandas as pd\n",
    "import numpy as np\n",
    "import matplotlib.pyplot as plt\n",
    "from xgboost import XGBClassifier\n",
    "from sklearn.model_selection import train_test_split, GridSearchCV\n",
    "from sklearn.preprocessing import StandardScaler\n",
    "from sklearn.metrics import confusion_matrix, ConfusionMatrixDisplay\n",
    "import math"
   ]
  },
  {
   "cell_type": "code",
   "execution_count": 2,
   "metadata": {},
   "outputs": [],
   "source": [
    "def check_missing_data(df: pd.DataFrame) -> None:\n",
    "    \"\"\"\n",
    "    Check the entire dataset for missing values\n",
    "    \"\"\"\n",
    "    found = False\n",
    "    for _, column in enumerate(df):\n",
    "        if df[column].isnull().any():\n",
    "            found = True\n",
    "            print(f\"{column} number on missing values is {df[column].isnull().sum()}\")\n",
    "\n",
    "    if not(found):\n",
    "        print(\"There are no missing values in the dataset!\")\n",
    "\n",
    "def change_values(df, column, final_val, is_column_name = True, condition = lambda x: pd.isnull(x), transformations = lambda x: x):\n",
    "    \"\"\"\n",
    "    Change the values in a given column based on some condition. New value can be given or derived from some other column.\n",
    "    Transformations can be applied to the values from other columns.\n",
    "    \"\"\"\n",
    "    for i, elem in enumerate(df[column]):\n",
    "        if condition(elem):\n",
    "            df.loc[i, column] = (transformations(df.loc[i, final_val]) if is_column_name else final_val)\n"
   ]
  },
  {
   "cell_type": "code",
   "execution_count": 3,
   "metadata": {},
   "outputs": [
    {
     "data": {
      "text/html": [
       "<div>\n",
       "<style scoped>\n",
       "    .dataframe tbody tr th:only-of-type {\n",
       "        vertical-align: middle;\n",
       "    }\n",
       "\n",
       "    .dataframe tbody tr th {\n",
       "        vertical-align: top;\n",
       "    }\n",
       "\n",
       "    .dataframe thead th {\n",
       "        text-align: right;\n",
       "    }\n",
       "</style>\n",
       "<table border=\"1\" class=\"dataframe\">\n",
       "  <thead>\n",
       "    <tr style=\"text-align: right;\">\n",
       "      <th></th>\n",
       "      <th>Unnamed: 0</th>\n",
       "      <th>CLOSEST_DEFENDER</th>\n",
       "      <th>CLOSEST_DEFENDER_PLAYER_ID</th>\n",
       "      <th>CLOSE_DEF_DIST</th>\n",
       "      <th>DRIBBLES</th>\n",
       "      <th>FGM</th>\n",
       "      <th>FINAL_MARGIN</th>\n",
       "      <th>GAME_CLOCK</th>\n",
       "      <th>GAME_ID</th>\n",
       "      <th>GAME_ID.1</th>\n",
       "      <th>...</th>\n",
       "      <th>ACTION_TYPE</th>\n",
       "      <th>SHOT_TYPE</th>\n",
       "      <th>SHOT_ZONE_BASIC</th>\n",
       "      <th>SHOT_ZONE_AREA</th>\n",
       "      <th>SHOT_ZONE_RANGE</th>\n",
       "      <th>SHOT_DISTANCE</th>\n",
       "      <th>LOC_X</th>\n",
       "      <th>LOC_Y</th>\n",
       "      <th>SHOT_ATTEMPTED_FLAG</th>\n",
       "      <th>SHOT_MADE_FLAG</th>\n",
       "    </tr>\n",
       "  </thead>\n",
       "  <tbody>\n",
       "    <tr>\n",
       "      <th>0</th>\n",
       "      <td>0</td>\n",
       "      <td>Turner, Evan</td>\n",
       "      <td>202323.0</td>\n",
       "      <td>1.9</td>\n",
       "      <td>17.0</td>\n",
       "      <td>0.0</td>\n",
       "      <td>10.0</td>\n",
       "      <td>8:09</td>\n",
       "      <td>21300165</td>\n",
       "      <td>21300165</td>\n",
       "      <td>...</td>\n",
       "      <td>Jump Shot</td>\n",
       "      <td>2PT Field Goal</td>\n",
       "      <td>In The Paint (Non-RA)</td>\n",
       "      <td>Center(C)</td>\n",
       "      <td>Less Than 8 ft.</td>\n",
       "      <td>6.0</td>\n",
       "      <td>-40.0</td>\n",
       "      <td>53.0</td>\n",
       "      <td>1.0</td>\n",
       "      <td>0.0</td>\n",
       "    </tr>\n",
       "    <tr>\n",
       "      <th>1</th>\n",
       "      <td>1</td>\n",
       "      <td>Turner, Evan</td>\n",
       "      <td>202323.0</td>\n",
       "      <td>3.2</td>\n",
       "      <td>0.0</td>\n",
       "      <td>1.0</td>\n",
       "      <td>10.0</td>\n",
       "      <td>9:10</td>\n",
       "      <td>21300165</td>\n",
       "      <td>21300165</td>\n",
       "      <td>...</td>\n",
       "      <td>Jump Shot</td>\n",
       "      <td>3PT Field Goal</td>\n",
       "      <td>Above the Break 3</td>\n",
       "      <td>Right Side Center(RC)</td>\n",
       "      <td>24+ ft.</td>\n",
       "      <td>26.0</td>\n",
       "      <td>182.0</td>\n",
       "      <td>195.0</td>\n",
       "      <td>1.0</td>\n",
       "      <td>1.0</td>\n",
       "    </tr>\n",
       "    <tr>\n",
       "      <th>2</th>\n",
       "      <td>2</td>\n",
       "      <td>Carter-Williams, Michael</td>\n",
       "      <td>203487.0</td>\n",
       "      <td>3.5</td>\n",
       "      <td>0.0</td>\n",
       "      <td>0.0</td>\n",
       "      <td>10.0</td>\n",
       "      <td>8:36</td>\n",
       "      <td>21300165</td>\n",
       "      <td>21300165</td>\n",
       "      <td>...</td>\n",
       "      <td>Jump Shot</td>\n",
       "      <td>3PT Field Goal</td>\n",
       "      <td>Above the Break 3</td>\n",
       "      <td>Right Side Center(RC)</td>\n",
       "      <td>24+ ft.</td>\n",
       "      <td>26.0</td>\n",
       "      <td>159.0</td>\n",
       "      <td>206.0</td>\n",
       "      <td>1.0</td>\n",
       "      <td>0.0</td>\n",
       "    </tr>\n",
       "    <tr>\n",
       "      <th>3</th>\n",
       "      <td>3</td>\n",
       "      <td>Brown, Lorenzo</td>\n",
       "      <td>203485.0</td>\n",
       "      <td>3.6</td>\n",
       "      <td>19.0</td>\n",
       "      <td>0.0</td>\n",
       "      <td>10.0</td>\n",
       "      <td>0:23</td>\n",
       "      <td>21300165</td>\n",
       "      <td>21300165</td>\n",
       "      <td>...</td>\n",
       "      <td>Jump Shot</td>\n",
       "      <td>3PT Field Goal</td>\n",
       "      <td>Above the Break 3</td>\n",
       "      <td>Center(C)</td>\n",
       "      <td>24+ ft.</td>\n",
       "      <td>27.0</td>\n",
       "      <td>-15.0</td>\n",
       "      <td>274.0</td>\n",
       "      <td>1.0</td>\n",
       "      <td>0.0</td>\n",
       "    </tr>\n",
       "    <tr>\n",
       "      <th>4</th>\n",
       "      <td>0</td>\n",
       "      <td>Cole, Norris</td>\n",
       "      <td>202708.0</td>\n",
       "      <td>3.7</td>\n",
       "      <td>0.0</td>\n",
       "      <td>1.0</td>\n",
       "      <td>-7.0</td>\n",
       "      <td>11:43</td>\n",
       "      <td>21300230</td>\n",
       "      <td>21300230</td>\n",
       "      <td>...</td>\n",
       "      <td>Jump Shot</td>\n",
       "      <td>3PT Field Goal</td>\n",
       "      <td>Above the Break 3</td>\n",
       "      <td>Left Side Center(LC)</td>\n",
       "      <td>24+ ft.</td>\n",
       "      <td>24.0</td>\n",
       "      <td>-149.0</td>\n",
       "      <td>198.0</td>\n",
       "      <td>1.0</td>\n",
       "      <td>1.0</td>\n",
       "    </tr>\n",
       "  </tbody>\n",
       "</table>\n",
       "<p>5 rows × 41 columns</p>\n",
       "</div>"
      ],
      "text/plain": [
       "   Unnamed: 0          CLOSEST_DEFENDER  CLOSEST_DEFENDER_PLAYER_ID  \\\n",
       "0           0              Turner, Evan                    202323.0   \n",
       "1           1              Turner, Evan                    202323.0   \n",
       "2           2  Carter-Williams, Michael                    203487.0   \n",
       "3           3            Brown, Lorenzo                    203485.0   \n",
       "4           0              Cole, Norris                    202708.0   \n",
       "\n",
       "   CLOSE_DEF_DIST  DRIBBLES  FGM  FINAL_MARGIN GAME_CLOCK   GAME_ID  \\\n",
       "0             1.9      17.0  0.0          10.0       8:09  21300165   \n",
       "1             3.2       0.0  1.0          10.0       9:10  21300165   \n",
       "2             3.5       0.0  0.0          10.0       8:36  21300165   \n",
       "3             3.6      19.0  0.0          10.0       0:23  21300165   \n",
       "4             3.7       0.0  1.0          -7.0      11:43  21300230   \n",
       "\n",
       "   GAME_ID.1  ... ACTION_TYPE       SHOT_TYPE        SHOT_ZONE_BASIC  \\\n",
       "0   21300165  ...   Jump Shot  2PT Field Goal  In The Paint (Non-RA)   \n",
       "1   21300165  ...   Jump Shot  3PT Field Goal      Above the Break 3   \n",
       "2   21300165  ...   Jump Shot  3PT Field Goal      Above the Break 3   \n",
       "3   21300165  ...   Jump Shot  3PT Field Goal      Above the Break 3   \n",
       "4   21300230  ...   Jump Shot  3PT Field Goal      Above the Break 3   \n",
       "\n",
       "          SHOT_ZONE_AREA  SHOT_ZONE_RANGE  SHOT_DISTANCE  LOC_X  LOC_Y  \\\n",
       "0              Center(C)  Less Than 8 ft.            6.0  -40.0   53.0   \n",
       "1  Right Side Center(RC)          24+ ft.           26.0  182.0  195.0   \n",
       "2  Right Side Center(RC)          24+ ft.           26.0  159.0  206.0   \n",
       "3              Center(C)          24+ ft.           27.0  -15.0  274.0   \n",
       "4   Left Side Center(LC)          24+ ft.           24.0 -149.0  198.0   \n",
       "\n",
       "   SHOT_ATTEMPTED_FLAG SHOT_MADE_FLAG  \n",
       "0                  1.0            0.0  \n",
       "1                  1.0            1.0  \n",
       "2                  1.0            0.0  \n",
       "3                  1.0            0.0  \n",
       "4                  1.0            1.0  \n",
       "\n",
       "[5 rows x 41 columns]"
      ]
     },
     "execution_count": 3,
     "metadata": {},
     "output_type": "execute_result"
    }
   ],
   "source": [
    "shots1 = pd.read_csv('datasets/joined_shots_2013.csv')\n",
    "shots2 = pd.read_csv('datasets/joined_shots_2014.csv')\n",
    "\n",
    "shots = pd.concat([shots1, shots2], ignore_index=True)\n",
    "shots.head()"
   ]
  },
  {
   "cell_type": "code",
   "execution_count": 4,
   "metadata": {},
   "outputs": [
    {
     "name": "stdout",
     "output_type": "stream",
     "text": [
      "SHOT_CLOCK number on missing values is 20847\n"
     ]
    }
   ],
   "source": [
    "#preparing data for all numerical methods\n",
    "shots['TIME_GAME_CLOCK'] = pd.to_datetime(shots['GAME_CLOCK'],format= '%M:%S' ).dt.minute * 60 + pd.to_datetime(shots['GAME_CLOCK'],format= '%M:%S' ).dt.second\n",
    "\n",
    "shots['GAME_TIME'] = shots.apply(lambda row: (((row['PERIOD'] - 1) * 12 * 60 + (12 * 60 - row['TIME_GAME_CLOCK'])) if row['PERIOD'] <= 4 \n",
    "                        else ((row['PERIOD'] - 5) * 5 * 60 + (5 * 60 - row['TIME_GAME_CLOCK'])) + 4 * 12 * 60), axis=1)\n",
    "\n",
    "check_missing_data(shots)\n",
    "change_values(shots, 'SHOT_CLOCK', 'TIME_GAME_CLOCK', transformations=lambda x: float(f\"{math.floor(x/60)}.{x%60}\"))\n",
    "shots = shots[shots['TOUCH_TIME'] >= 0]"
   ]
  },
  {
   "cell_type": "code",
   "execution_count": 5,
   "metadata": {},
   "outputs": [
    {
     "name": "stdout",
     "output_type": "stream",
     "text": [
      "[0. 1.]\n"
     ]
    }
   ],
   "source": [
    "print(shots['SHOT_MADE_FLAG'].unique())"
   ]
  },
  {
   "cell_type": "code",
   "execution_count": 6,
   "metadata": {},
   "outputs": [
    {
     "name": "stdout",
     "output_type": "stream",
     "text": [
      "Accuracy score for train data: 0.6941292829388909\n",
      "Accuracy score for test data: 0.6963438101347017\n"
     ]
    },
    {
     "data": {
      "image/png": "[encoded data removed]",
      "text/plain": [
       "<Figure size 432x288 with 2 Axes>"
      ]
     },
     "metadata": {
      "needs_background": "light"
     },
     "output_type": "display_data"
    }
   ],
   "source": [
    "X_num = shots[['FINAL_MARGIN', 'SHOT_NUMBER', 'SHOT_CLOCK', 'TOUCH_TIME',\n",
    "       'SHOT_DIST', 'CLOSE_DEF_DIST', 'GAME_TIME', 'LOC_X', 'LOC_Y']]\n",
    "\n",
    "y = np.ravel(shots[['SHOT_MADE_FLAG']])\n",
    "\n",
    "scaler =  StandardScaler()\n",
    "\n",
    "scaler.fit(X_num)\n",
    "X_procc = scaler.transform(X_num)\n",
    "\n",
    "X_train, X_test, y_train, y_test = train_test_split(X_procc, y, test_size=0.1, stratify=y)\n",
    "\n",
    "parameters_for_testing = {\n",
    "    'min_child_weight':[0.0001,0.001,0.01],\n",
    "    'learning_rate':[0.00001,0.0001,0.001],\n",
    "    'n_estimators':[1,3,5,10],\n",
    "    'max_depth':[4, 5]\n",
    "}\n",
    "\n",
    "xgb_model = XGBClassifier(use_label_encoder=False, eval_metric='logloss')\n",
    "\n",
    "gsearch1 = GridSearchCV(estimator = xgb_model, param_grid = parameters_for_testing, scoring='precision')\n",
    "\n",
    "xgb = gsearch1.fit(X_train, y_train)\n",
    "\n",
    "print(f\"Accuracy score for train data: {xgb.score(X_train, y_train)}\")\n",
    "print(f\"Accuracy score for test data: {xgb.score(X_test, y_test)}\")\n",
    "\n",
    "disp_matrix = ConfusionMatrixDisplay(confusion_matrix(y_test, xgb.predict(X_test)), display_labels=xgb.classes_)\n",
    "disp_matrix.plot()\n",
    "plt.show()"
   ]
  },
  {
   "cell_type": "code",
   "execution_count": 7,
   "metadata": {},
   "outputs": [
    {
     "name": "stdout",
     "output_type": "stream",
     "text": [
      "{'learning_rate': 1e-05, 'max_depth': 4, 'min_child_weight': 0.0001, 'n_estimators': 1}\n"
     ]
    }
   ],
   "source": [
    "print(xgb.best_params_)"
   ]
  },
  {
   "cell_type": "code",
   "execution_count": 8,
   "metadata": {},
   "outputs": [
    {
     "name": "stdout",
     "output_type": "stream",
     "text": [
      "NEURAL NET\n",
      "Accuracy score for train data: 0.6387495389666753\n",
      "Accuracy score for test data: 0.6342218229010682\n"
     ]
    },
    {
     "data": {
      "image/png": "[encoded data removed]",
      "text/plain": [
       "<Figure size 432x288 with 2 Axes>"
      ]
     },
     "metadata": {
      "needs_background": "light"
     },
     "output_type": "display_data"
    }
   ],
   "source": [
    "from sklearn.neural_network import MLPClassifier\n",
    "from sklearn.linear_model import SGDClassifier\n",
    "from sklearn.model_selection import train_test_split, GridSearchCV\n",
    "from sklearn.pipeline import make_pipeline\n",
    "from sklearn.preprocessing import StandardScaler\n",
    "from sklearn.metrics import confusion_matrix, ConfusionMatrixDisplay\n",
    "\n",
    "def train_model(X: pd.DataFrame, y: np.array, model_type=SGDClassifier(), scaler=StandardScaler(), test_size=0.1):\n",
    "    \"\"\"\n",
    "    Function for training different ML methods. You can set different model, scaler, and test size. It prints accuracy scores and plots\n",
    "    a confusion matrix. \n",
    "    \"\"\"\n",
    "    X_train, X_test, y_train, y_test = train_test_split(X, y, test_size=test_size, stratify=y)\n",
    "\n",
    "    if scaler:\n",
    "        pipe = make_pipeline(scaler, model_type)\n",
    "    else:\n",
    "        pipe = make_pipeline(model_type)\n",
    "\n",
    "    model = pipe.fit(X_train, y_train)\n",
    "\n",
    "    print(f\"Accuracy score for train data: {model.score(X_train, y_train)}\")\n",
    "    print(f\"Accuracy score for test data: {model.score(X_test, y_test)}\")\n",
    "\n",
    "    disp_matrix = ConfusionMatrixDisplay(confusion_matrix(y_test, model.predict(X_test)), display_labels=model.classes_)\n",
    "    disp_matrix.plot()\n",
    "    plt.show()\n",
    "\n",
    "    return model\n",
    "\n",
    "\n",
    "print(\"NEURAL NET\")\n",
    "\n",
    "nn = train_model(X_num, y, MLPClassifier(hidden_layer_sizes=(20, 50, 20)))"
   ]
  }
 ],
 "metadata": {
  "interpreter": {
   "hash": "9c61d083b7a8947575567776b2675d960c6c38e3878ac6ff28a22fd4d1b1bdcf"
  },
  "kernelspec": {
   "display_name": "Python 3.9.6 64-bit",
   "language": "python",
   "name": "python3"
  },
  "language_info": {
   "codemirror_mode": {
    "name": "ipython",
    "version": 3
   },
   "file_extension": ".py",
   "mimetype": "text/x-python",
   "name": "python",
   "nbconvert_exporter": "python",
   "pygments_lexer": "ipython3",
   "version": "3.9.6"
  },
  "orig_nbformat": 4
 },
 "nbformat": 4,
 "nbformat_minor": 2
}
